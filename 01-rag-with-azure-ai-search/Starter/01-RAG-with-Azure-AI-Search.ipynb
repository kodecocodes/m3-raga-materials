{
 "cells": [
  {
   "cell_type": "markdown",
   "metadata": {},
   "source": [
    "Set up an Azure AI Search service and index basic data"
   ]
  },
  {
   "cell_type": "markdown",
   "metadata": {},
   "source": [
    "Package Installation"
   ]
  },
  {
   "cell_type": "code",
   "execution_count": null,
   "metadata": {},
   "outputs": [],
   "source": [
    "! pip install azure-search-documents==11.6.0b1 --quiet\n",
    "! pip install azure-identity --quiet\n",
    "! pip install python-dotenv --quiet"
   ]
  },
  {
   "cell_type": "markdown",
   "metadata": {},
   "source": [
    "Set API Keys and Index Name"
   ]
  },
  {
   "cell_type": "code",
   "execution_count": null,
   "metadata": {},
   "outputs": [],
   "source": [
    "search_endpoint: str = \"\"\n",
    "search_api_key: str = \"\"\n",
    "index_name: str = \"\"\n",
    "\n",
    "from azure.core.credentials import AzureKeyCredential\n",
    "\n",
    "credential = AzureKeyCredential(search_api_key)\n",
    "\n",
    "from azure.search.documents.indexes import SearchIndexClient\n",
    "from azure.search.documents import SearchClient\n",
    "from azure.search.documents.indexes.models import (\n",
    "    ComplexField,\n",
    "    SimpleField,\n",
    "    SearchFieldDataType,\n",
    "    SearchableField,\n",
    "    SearchIndex,\n",
    ")"
   ]
  },
  {
   "cell_type": "markdown",
   "metadata": {},
   "source": [
    "Create a Search Schema"
   ]
  },
  {
   "cell_type": "code",
   "execution_count": null,
   "metadata": {},
   "outputs": [],
   "source": [
    "index_client = SearchIndexClient(endpoint=search_endpoint, credential=credential)\n",
    "fields = [\n",
    "    # Fill in this part\n",
    "]\n",
    "\n",
    "scoring_profiles = []\n",
    "suggester = [{\"name\": \"sg\", \"source_fields\": [\"Genres\", \"Cast\"]}]\n"
   ]
  },
  {
   "cell_type": "markdown",
   "metadata": {},
   "source": [
    "Create the Search Index"
   ]
  },
  {
   "cell_type": "code",
   "execution_count": null,
   "metadata": {},
   "outputs": [],
   "source": [
    "\n",
    "\n",
    "index = SearchIndex(\n",
    "   # Fill this in\n",
    ")\n",
    "result = index_client.create_or_update_index(index)\n",
    "print(f\" {result.name} created\")"
   ]
  },
  {
   "cell_type": "markdown",
   "metadata": {},
   "source": [
    "Assign Television Show Data to a Variable"
   ]
  },
  {
   "cell_type": "code",
   "execution_count": null,
   "metadata": {},
   "outputs": [],
   "source": [
    "documents = [\n",
    "    {\n",
    "        \"@search.action\": \"upload\",\n",
    "        \"ShowId\": \"1\",\n",
    "        \"ShowName\": \"Stranger Things\",\n",
    "        \"Description\": \"A thrilling Netflix series set in the 1980s that combines horror, science fiction, and nostalgia.\",\n",
    "        \"Category\": \"TV Series\",\n",
    "        \"Genres\": [\"Horror\", \"Science Fiction\", \"Drama\"],\n",
    "        \"Seasons\": 4,\n",
    "        \"Rating\": 4.7,\n",
    "        \"Cast\": [\"Millie Bobby Brown\", \"Finn Wolfhard\", \"Winona Ryder\"],\n",
    "        \"StreamingPlatform\": \"Netflix\",\n",
    "        \"ReleaseDate\": \"2016-07-15T00:00:00Z\",\n",
    "    },\n",
    "    {\n",
    "        \"@search.action\": \"upload\",\n",
    "        \"ShowId\": \"2\",\n",
    "        \"ShowName\": \"The Mandalorian\",\n",
    "        \"Description\": \"A Star Wars spin-off series following the journey of a lone bounty hunter in the outer reaches of the galaxy.\",\n",
    "        \"Category\": \"TV Series\",\n",
    "        \"Genres\": [\"Action\", \"Adventure\", \"Science Fiction\"],\n",
    "        \"Seasons\": 3,\n",
    "        \"Rating\": 4.8,\n",
    "        \"Cast\": [\"Pedro Pascal\", \"Gina Carano\", \"Carl Weathers\"],\n",
    "        \"StreamingPlatform\": \"Disney+\",\n",
    "        \"ReleaseDate\": \"2019-11-12T00:00:00Z\",\n",
    "    },\n",
    "    {\n",
    "        \"@search.action\": \"upload\",\n",
    "        \"ShowId\": \"3\",\n",
    "        \"ShowName\": \"The Crown\",\n",
    "        \"Description\": \"A historical drama series chronicling the reign of Queen Elizabeth II and the events that shaped the second half of the 20th century.\",\n",
    "        \"Category\": \"TV Series\",\n",
    "        \"Genres\": [\"Drama\", \"History\"],\n",
    "        \"Seasons\": 6,\n",
    "        \"Rating\": 4.5,\n",
    "        \"Cast\": [\"Claire Foy\", \"Olivia Colman\", \"Imelda Staunton\"],\n",
    "        \"StreamingPlatform\": \"Netflix\",\n",
    "        \"ReleaseDate\": \"2016-11-04T00:00:00Z\",\n",
    "    },\n",
    "    {\n",
    "        \"@search.action\": \"upload\",\n",
    "        \"ShowId\": \"4\",\n",
    "        \"ShowName\": \"Breaking Bad\",\n",
    "        \"Description\": \"A high school chemistry teacher turned methamphetamine manufacturer partners with a former student to build a drug empire.\",\n",
    "        \"Category\": \"TV Series\",\n",
    "        \"Genres\": [\"Crime\", \"Drama\", \"Thriller\"],\n",
    "        \"Seasons\": 5,\n",
    "        \"Rating\": 4.9,\n",
    "        \"Cast\": [\"Bryan Cranston\", \"Aaron Paul\", \"Anna Gunn\"],\n",
    "        \"StreamingPlatform\": \"AMC\",\n",
    "        \"ReleaseDate\": \"2008-01-20T00:00:00Z\",\n",
    "    },\n",
    "    {\n",
    "        \"@search.action\": \"upload\",\n",
    "        \"ShowId\": \"5\",\n",
    "        \"ShowName\": \"Friends\",\n",
    "        \"Description\": \"A beloved sitcom that follows the lives of six friends living in New York City as they navigate work, relationships, and life in general.\",\n",
    "        \"Category\": \"TV Series\",\n",
    "        \"Genres\": [\"Comedy\", \"Romance\"],\n",
    "        \"Seasons\": 10,\n",
    "        \"Rating\": 4.7,\n",
    "        \"Cast\": [\"Jennifer Aniston\", \"Courteney Cox\", \"Matthew Perry\"],\n",
    "        \"StreamingPlatform\": \"HBO Max\",\n",
    "        \"ReleaseDate\": \"1994-09-22T00:00:00Z\",\n",
    "    },\n",
    "    {\n",
    "        \"@search.action\": \"upload\",\n",
    "        \"ShowId\": \"6\",\n",
    "        \"ShowName\": \"Game of Thrones\",\n",
    "        \"Description\": \"An epic fantasy series based on the novels by George R.R. Martin, depicting the struggle for the Iron Throne in the Seven Kingdoms of Westeros.\",\n",
    "        \"Category\": \"TV Series\",\n",
    "        \"Genres\": [\"Fantasy\", \"Drama\", \"Adventure\"],\n",
    "        \"Seasons\": 8,\n",
    "        \"Rating\": 4.6,\n",
    "        \"Cast\": [\"Emilia Clarke\", \"Kit Harington\", \"Peter Dinklage\"],\n",
    "        \"StreamingPlatform\": \"HBO\",\n",
    "        \"ReleaseDate\": \"2011-04-17T00:00:00Z\",\n",
    "    },\n",
    "]"
   ]
  },
  {
   "cell_type": "markdown",
   "metadata": {},
   "source": [
    "Create the Search Client and Upload Documents"
   ]
  },
  {
   "cell_type": "code",
   "execution_count": null,
   "metadata": {},
   "outputs": [],
   "source": [
    "search_client = SearchClient(\n",
    "    # Fill this in\n",
    ")\n",
    "try:\n",
    "    result = search_client.upload_documents(documents=documents)\n",
    "    print(\"Upload of new document succeeded: {}\".format(result[0].succeeded))\n",
    "except Exception as ex:\n",
    "    print(ex.message)\n",
    "\n",
    "    index_client = SearchIndexClient(endpoint=search_endpoint, credential=credential)"
   ]
  },
  {
   "cell_type": "markdown",
   "metadata": {},
   "source": [
    "Run an Empty Query"
   ]
  },
  {
   "cell_type": "code",
   "execution_count": null,
   "metadata": {},
   "outputs": [],
   "source": [
    "results = search_client.search(\n",
    "    # Fill this in\n",
    ")\n",
    "\n",
    "print(\"Total Documents Matching Query:\", results.get_count())\n",
    "for result in results:\n",
    "    print(result[\"@search.score\"])\n",
    "    print(result[\"ShowName\"])\n",
    "    print(f\"Description: {result['Description']}\")"
   ]
  },
  {
   "cell_type": "markdown",
   "metadata": {},
   "source": [
    "Run a Term Query"
   ]
  },
  {
   "cell_type": "code",
   "execution_count": null,
   "metadata": {},
   "outputs": [],
   "source": [
    "# Run a term query\n",
    "results = search_client.search(\n",
    "   # Fill this in\n",
    ")\n",
    "\n",
    "print(\"Total Documents Matching Query:\", results.get_count())\n",
    "for result in results:\n",
    "    print(result[\"@search.score\"])\n",
    "    print(result[\"ShowName\"])\n",
    "    print(f\"Description: {result['Description']}\")"
   ]
  },
  {
   "cell_type": "markdown",
   "metadata": {},
   "source": [
    "Cleanup"
   ]
  },
  {
   "cell_type": "code",
   "execution_count": null,
   "metadata": {},
   "outputs": [],
   "source": [
    "try:\n",
    "    result = index_client.delete_index(index_name)\n",
    "    print ('Index', index_name, 'Deleted')\n",
    "except Exception as ex:\n",
    "    print (ex)"
   ]
  },
  {
   "cell_type": "markdown",
   "metadata": {},
   "source": [
    "Verify Cleanup"
   ]
  },
  {
   "cell_type": "code",
   "execution_count": null,
   "metadata": {},
   "outputs": [],
   "source": [
    "try:\n",
    "    result = index_client.get_index(index_name)\n",
    "    print (result)\n",
    "except Exception as ex:\n",
    "    print (ex)"
   ]
  }
 ],
 "metadata": {
  "kernelspec": {
   "display_name": "Python 3 (ipykernel)",
   "language": "python",
   "name": "python3"
  },
  "language_info": {
   "codemirror_mode": {
    "name": "ipython",
    "version": 3
   },
   "file_extension": ".py",
   "mimetype": "text/x-python",
   "name": "python",
   "nbconvert_exporter": "python",
   "pygments_lexer": "ipython3",
   "version": "3.11.2"
  }
 },
 "nbformat": 4,
 "nbformat_minor": 2
}
