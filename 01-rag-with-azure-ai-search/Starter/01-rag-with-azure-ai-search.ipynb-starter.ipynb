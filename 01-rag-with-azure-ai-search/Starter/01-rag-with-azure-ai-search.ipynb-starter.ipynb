{
 "cells": [
  {
   "cell_type": "markdown",
   "metadata": {},
   "source": [
    "Set up an Azure AI Search service and index basic data"
   ]
  },
  {
   "cell_type": "markdown",
   "metadata": {},
   "source": [
    "Package Installation"
   ]
  },
  {
   "cell_type": "code",
   "execution_count": 1,
   "metadata": {},
   "outputs": [],
   "source": [
    "# TODO: Install packages\n",
    "# ! pip install azure-search-documents==11.6.0b1 --quiet\n",
    "# ! pip install azure-identity --quiet\n",
    "# ! pip install python-dotenv --quiet"
   ]
  },
  {
   "cell_type": "markdown",
   "metadata": {},
   "source": [
    "Set API Keys"
   ]
  },
  {
   "cell_type": "code",
   "execution_count": 2,
   "metadata": {},
   "outputs": [],
   "source": [
    "# TODO: Set up service URLs\n",
    "AZURE_SEARCH_SERVICE_URL: str = \"<YOUR_AZURE_SEARCH_SERVICE_API_KEY>\"\n",
    "AZURE_SEARCH_SERVICE_API_KEY: str = \"<YOUR_AZURE_SEARCH_SERVICE_API_KEY>\"\n",
    "INDEX_NAME: str = \"television-shows\""
   ]
  },
  {
   "cell_type": "markdown",
   "metadata": {},
   "source": [
    "Create a Search Schema"
   ]
  },
  {
   "cell_type": "code",
   "execution_count": 3,
   "metadata": {},
   "outputs": [],
   "source": [
    "from azure.core.credentials import AzureKeyCredential\n",
    "from azure.search.documents.indexes import SearchIndexClient\n",
    "from azure.search.documents import SearchClient\n",
    "from azure.search.documents.indexes.models import (\n",
    "    SimpleField,\n",
    "    SearchFieldDataType,\n",
    "    SearchableField,\n",
    "    SearchIndex,\n",
    ")\n",
    "\n",
    "credential = AzureKeyCredential(AZURE_SEARCH_SERVICE_API_KEY)\n",
    "index_client = SearchIndexClient(endpoint=AZURE_SEARCH_SERVICE_URL, credential=credential)\n",
    "\n",
    "fields = [\n",
    "    SimpleField(name=\"ShowId\", type=SearchFieldDataType.String, key=True),\n",
    "    SearchableField(name=\"ShowName\", type=SearchFieldDataType.String, sortable=True),\n",
    "    SearchableField(\n",
    "        name=\"Description\", type=SearchFieldDataType.String, analyzer_name=\"en.lucene\"\n",
    "    ),\n",
    "    SearchableField(\n",
    "        name=\"Category\",\n",
    "        type=SearchFieldDataType.String,\n",
    "        facetable=True,\n",
    "        filterable=True,\n",
    "        sortable=True,\n",
    "    ),\n",
    "    SearchableField(\n",
    "        name=\"Genres\",\n",
    "        collection=True,\n",
    "        type=SearchFieldDataType.String,\n",
    "        facetable=True,\n",
    "        filterable=True,\n",
    "    ),\n",
    "    SimpleField(\n",
    "        name=\"Seasons\",\n",
    "        type=SearchFieldDataType.Int32,\n",
    "        facetable=True,\n",
    "        filterable=True,\n",
    "        sortable=True,\n",
    "    ),\n",
    "    SimpleField(\n",
    "        name=\"Rating\",\n",
    "        type=SearchFieldDataType.Double,\n",
    "        facetable=True,\n",
    "        filterable=True,\n",
    "        sortable=True,\n",
    "    ),\n",
    "    SearchableField(\n",
    "        name=\"Cast\",\n",
    "        collection=True,\n",
    "        type=SearchFieldDataType.String,\n",
    "        facetable=True,\n",
    "        filterable=True,\n",
    "    ),\n",
    "    SearchableField(\n",
    "        name=\"StreamingPlatform\", type=SearchFieldDataType.String, sortable=True\n",
    "    ),\n",
    "    SimpleField(\n",
    "        name=\"ReleaseDate\",\n",
    "        type=SearchFieldDataType.DateTimeOffset,\n",
    "        facetable=True,\n",
    "        filterable=True,\n",
    "        sortable=True,\n",
    "    ),\n",
    "]\n",
    "\n",
    "scoring_profiles = []\n",
    "suggester = [{\"name\": \"sg\", \"source_fields\": [\"Genres\", \"Cast\"]}]"
   ]
  },
  {
   "cell_type": "markdown",
   "metadata": {},
   "source": [
    "Create the Search Index"
   ]
  },
  {
   "cell_type": "code",
   "execution_count": null,
   "metadata": {},
   "outputs": [],
   "source": [
    "index = SearchIndex(\n",
    "    name=INDEX_NAME,\n",
    "    fields=fields,\n",
    "    suggesters=suggester,\n",
    "    scoring_profiles=scoring_profiles,\n",
    ")\n",
    "result = index_client.create_or_update_index(index)\n",
    "print(f\" {result.name} created\")"
   ]
  },
  {
   "cell_type": "markdown",
   "metadata": {},
   "source": [
    "Assign Television Show Data to a Variable"
   ]
  },
  {
   "cell_type": "code",
   "execution_count": 5,
   "metadata": {},
   "outputs": [],
   "source": [
    "documents = [\n",
    "    {\n",
    "        \"@search.action\": \"upload\",\n",
    "        \"ShowId\": \"1\",\n",
    "        \"ShowName\": \"Stranger Things\",\n",
    "        \"Description\": \"A thrilling Netflix series set in the 1980s that combines horror, science fiction, and nostalgia.\",\n",
    "        \"Category\": \"TV Series\",\n",
    "        \"Genres\": [\"Horror\", \"Science Fiction\", \"Drama\"],\n",
    "        \"Seasons\": 4,\n",
    "        \"Rating\": 4.7,\n",
    "        \"Cast\": [\"Millie Bobby Brown\", \"Finn Wolfhard\", \"Winona Ryder\"],\n",
    "        \"StreamingPlatform\": \"Netflix\",\n",
    "        \"ReleaseDate\": \"2016-07-15T00:00:00Z\",\n",
    "    },\n",
    "    {\n",
    "        \"@search.action\": \"upload\",\n",
    "        \"ShowId\": \"2\",\n",
    "        \"ShowName\": \"The Mandalorian\",\n",
    "        \"Description\": \"A Star Wars spin-off series following the journey of a lone bounty hunter in the outer reaches of the galaxy.\",\n",
    "        \"Category\": \"TV Series\",\n",
    "        \"Genres\": [\"Action\", \"Adventure\", \"Science Fiction\"],\n",
    "        \"Seasons\": 3,\n",
    "        \"Rating\": 4.8,\n",
    "        \"Cast\": [\"Pedro Pascal\", \"Gina Carano\", \"Carl Weathers\"],\n",
    "        \"StreamingPlatform\": \"Disney+\",\n",
    "        \"ReleaseDate\": \"2019-11-12T00:00:00Z\",\n",
    "    },\n",
    "    {\n",
    "        \"@search.action\": \"upload\",\n",
    "        \"ShowId\": \"3\",\n",
    "        \"ShowName\": \"The Crown\",\n",
    "        \"Description\": \"A historical drama series chronicling the reign of Queen Elizabeth II and the events that shaped the second half of the 20th century.\",\n",
    "        \"Category\": \"TV Series\",\n",
    "        \"Genres\": [\"Drama\", \"History\"],\n",
    "        \"Seasons\": 6,\n",
    "        \"Rating\": 4.5,\n",
    "        \"Cast\": [\"Claire Foy\", \"Olivia Colman\", \"Imelda Staunton\"],\n",
    "        \"StreamingPlatform\": \"Netflix\",\n",
    "        \"ReleaseDate\": \"2016-11-04T00:00:00Z\",\n",
    "    },\n",
    "    {\n",
    "        \"@search.action\": \"upload\",\n",
    "        \"ShowId\": \"4\",\n",
    "        \"ShowName\": \"Breaking Bad\",\n",
    "        \"Description\": \"A high school chemistry teacher turned methamphetamine manufacturer partners with a former student to build a drug empire.\",\n",
    "        \"Category\": \"TV Series\",\n",
    "        \"Genres\": [\"Crime\", \"Drama\", \"Thriller\"],\n",
    "        \"Seasons\": 5,\n",
    "        \"Rating\": 4.9,\n",
    "        \"Cast\": [\"Bryan Cranston\", \"Aaron Paul\", \"Anna Gunn\"],\n",
    "        \"StreamingPlatform\": \"AMC\",\n",
    "        \"ReleaseDate\": \"2008-01-20T00:00:00Z\",\n",
    "    },\n",
    "    {\n",
    "        \"@search.action\": \"upload\",\n",
    "        \"ShowId\": \"5\",\n",
    "        \"ShowName\": \"Friends\",\n",
    "        \"Description\": \"A beloved sitcom that follows the lives of six friends living in New York City as they navigate work, relationships, and life in general.\",\n",
    "        \"Category\": \"TV Series\",\n",
    "        \"Genres\": [\"Comedy\", \"Romance\"],\n",
    "        \"Seasons\": 10,\n",
    "        \"Rating\": 4.7,\n",
    "        \"Cast\": [\"Jennifer Aniston\", \"Courteney Cox\", \"Matthew Perry\"],\n",
    "        \"StreamingPlatform\": \"HBO Max\",\n",
    "        \"ReleaseDate\": \"1994-09-22T00:00:00Z\",\n",
    "    },\n",
    "    {\n",
    "        \"@search.action\": \"upload\",\n",
    "        \"ShowId\": \"6\",\n",
    "        \"ShowName\": \"Game of Thrones\",\n",
    "        \"Description\": \"An epic fantasy series based on the novels by George R.R. Martin, depicting the struggle for the Iron Throne in the Seven Kingdoms of Westeros.\",\n",
    "        \"Category\": \"TV Series\",\n",
    "        \"Genres\": [\"Fantasy\", \"Drama\", \"Adventure\"],\n",
    "        \"Seasons\": 8,\n",
    "        \"Rating\": 4.6,\n",
    "        \"Cast\": [\"Emilia Clarke\", \"Kit Harington\", \"Peter Dinklage\"],\n",
    "        \"StreamingPlatform\": \"HBO\",\n",
    "        \"ReleaseDate\": \"2011-04-17T00:00:00Z\",\n",
    "    },\n",
    "]"
   ]
  },
  {
   "cell_type": "markdown",
   "metadata": {},
   "source": [
    "Create the Search Client and Upload Documents"
   ]
  },
  {
   "cell_type": "code",
   "execution_count": null,
   "metadata": {},
   "outputs": [],
   "source": [
    "search_client = SearchClient(\n",
    "    endpoint=AZURE_SEARCH_SERVICE_URL, index_name=INDEX_NAME, credential=credential\n",
    ")\n",
    "try:\n",
    "    result = search_client.upload_documents(documents=documents)\n",
    "    print(\"Upload of new document succeeded: {}\".format(result[0].succeeded))\n",
    "except Exception as ex:\n",
    "    print(ex.message)\n",
    "\n",
    "    index_client = SearchIndexClient(endpoint=AZURE_SEARCH_SERVICE_URL, credential=credential)"
   ]
  },
  {
   "cell_type": "markdown",
   "metadata": {},
   "source": [
    "Run an Empty Query"
   ]
  },
  {
   "cell_type": "code",
   "execution_count": null,
   "metadata": {},
   "outputs": [],
   "source": [
    "# TODO: Run an empty query\n",
    "# results = search_client.search(\n",
    "#     query_type=\"simple\",\n",
    "#     search_text=\"*\",\n",
    "#     select=\"ShowName,Description\",\n",
    "#     include_total_count=True,\n",
    "# )\n",
    "\n",
    "# print(\"Total Documents Matching Query:\", results.get_count())\n",
    "# for result in results:\n",
    "#     print(result[\"@search.score\"])\n",
    "#     print(result[\"ShowName\"])\n",
    "#     print(f\"Description: {result['Description']}\")"
   ]
  },
  {
   "cell_type": "markdown",
   "metadata": {},
   "source": [
    "Run a Term Query"
   ]
  },
  {
   "cell_type": "code",
   "execution_count": null,
   "metadata": {},
   "outputs": [],
   "source": [
    "# TODO: Run a term query\n",
    "# results = search_client.search(\n",
    "#     query_type=\"simple\",\n",
    "#     search_text=\"drama\",\n",
    "#     select=\"ShowName,Description,Genres\",\n",
    "#     include_total_count=True,\n",
    "# )\n",
    "\n",
    "# print(\"Total Documents Matching Query:\", results.get_count())\n",
    "# for result in results:\n",
    "#     print(result[\"@search.score\"])\n",
    "#     print(result[\"ShowName\"])\n",
    "#     print(f\"Description: {result['Description']}\")"
   ]
  },
  {
   "cell_type": "markdown",
   "metadata": {},
   "source": [
    "Cleanup"
   ]
  },
  {
   "cell_type": "code",
   "execution_count": null,
   "metadata": {},
   "outputs": [],
   "source": [
    "try:\n",
    "    result = index_client.delete_index(INDEX_NAME)\n",
    "    print ('Index', INDEX_NAME, 'Deleted')\n",
    "except Exception as ex:\n",
    "    print (ex)"
   ]
  },
  {
   "cell_type": "markdown",
   "metadata": {},
   "source": [
    "Verify Cleanup"
   ]
  },
  {
   "cell_type": "code",
   "execution_count": null,
   "metadata": {},
   "outputs": [],
   "source": [
    "try:\n",
    "    result = index_client.get_index(INDEX_NAME)\n",
    "    print (result)\n",
    "except Exception as ex:\n",
    "    print (ex)"
   ]
  }
 ],
 "metadata": {
  "kernelspec": {
   "display_name": ".venv",
   "language": "python",
   "name": "python3"
  },
  "language_info": {
   "codemirror_mode": {
    "name": "ipython",
    "version": 3
   },
   "file_extension": ".py",
   "mimetype": "text/x-python",
   "name": "python",
   "nbconvert_exporter": "python",
   "pygments_lexer": "ipython3",
   "version": "3.12.4"
  }
 },
 "nbformat": 4,
 "nbformat_minor": 2
}
