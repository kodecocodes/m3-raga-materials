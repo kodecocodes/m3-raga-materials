{
 "cells": [
  {
   "cell_type": "markdown",
   "metadata": {},
   "source": [
    "Set up an Azure AI Search service and index basic data"
   ]
  },
  {
   "cell_type": "code",
   "execution_count": 25,
   "metadata": {},
   "outputs": [
    {
     "name": "stdout",
     "output_type": "stream",
     "text": [
      " television-shows created\n"
     ]
    }
   ],
   "source": [
    "! pip install azure-search-documents==11.6.0b1 --quiet\n",
    "! pip install azure-identity --quiet\n",
    "! pip install python-dotenv --quiet\n",
    "\n",
    "search_endpoint: str = \"https://kodeco-ai-search-service-paid-basic.search.windows.net\"\n",
    "search_api_key: str = \"KdBoplAH20sep1dayhZDh34Uvg2K7S3UyTzqRyutD9AzSeDMLPmE\"\n",
    "index_name: str = \"television-shows\"\n",
    "\n",
    "from azure.core.credentials import AzureKeyCredential\n",
    "\n",
    "credential = AzureKeyCredential(search_api_key)\n",
    "\n",
    "from azure.search.documents.indexes import SearchIndexClient\n",
    "from azure.search.documents import SearchClient\n",
    "from azure.search.documents.indexes.models import (\n",
    "    ComplexField,\n",
    "    SimpleField,\n",
    "    SearchFieldDataType,\n",
    "    SearchableField,\n",
    "    SearchIndex\n",
    ")\n",
    "\n",
    "# Create a search schema\n",
    "index_client = SearchIndexClient(\n",
    "    endpoint=search_endpoint, credential=credential)\n",
    "fields = [\n",
    "        SimpleField(name=\"ShowId\", type=SearchFieldDataType.String, key=True),\n",
    "        SearchableField(name=\"ShowName\", type=SearchFieldDataType.String, sortable=True),\n",
    "        SearchableField(name=\"Description\", type=SearchFieldDataType.String, analyzer_name=\"en.lucene\"),\n",
    "        SearchableField(name=\"Category\", type=SearchFieldDataType.String, facetable=True, filterable=True, sortable=True),\n",
    "        SearchableField(name=\"Genres\", collection=True, type=SearchFieldDataType.String, facetable=True, filterable=True),\n",
    "        SimpleField(name=\"Seasons\", type=SearchFieldDataType.Int32, facetable=True, filterable=True, sortable=True),\n",
    "        SimpleField(name=\"Rating\", type=SearchFieldDataType.Double, facetable=True, filterable=True, sortable=True),\n",
    "        SearchableField(name=\"Cast\", collection=True, type=SearchFieldDataType.String, facetable=True, filterable=True),\n",
    "        SearchableField(name=\"StreamingPlatform\", type=SearchFieldDataType.String, sortable=True),\n",
    "        SimpleField(name=\"ReleaseDate\", type=SearchFieldDataType.DateTimeOffset, facetable=True, filterable=True, sortable=True)\n",
    "    ]\n",
    "\n",
    "scoring_profiles = []\n",
    "suggester = [{'name': 'sg', 'source_fields': ['Genres', 'Cast']}]\n",
    "\n",
    "# Create the search index=\n",
    "index = SearchIndex(name=index_name, fields=fields, suggesters=suggester, scoring_profiles=scoring_profiles)\n",
    "result = index_client.create_or_update_index(index)\n",
    "print(f' {result.name} created')"
   ]
  },
  {
   "cell_type": "code",
   "execution_count": 26,
   "metadata": {},
   "outputs": [],
   "source": [
    "documents = [\n",
    "    {\n",
    "        \"@search.action\": \"upload\",\n",
    "        \"ShowId\": \"1\",\n",
    "        \"ShowName\": \"Stranger Things\",\n",
    "        \"Description\": \"A thrilling Netflix series set in the 1980s that combines horror, science fiction, and nostalgia.\",\n",
    "        \"Category\": \"TV Series\",\n",
    "        \"Genres\": [\"Horror\", \"Science Fiction\", \"Drama\"],\n",
    "        \"Seasons\": 4,\n",
    "        \"Rating\": 4.7,\n",
    "        \"Cast\": [\"Millie Bobby Brown\", \"Finn Wolfhard\", \"Winona Ryder\"],\n",
    "        \"StreamingPlatform\": \"Netflix\",\n",
    "        \"ReleaseDate\": \"2016-07-15T00:00:00Z\"\n",
    "    },\n",
    "    {\n",
    "        \"@search.action\": \"upload\",\n",
    "        \"ShowId\": \"2\",\n",
    "        \"ShowName\": \"The Mandalorian\",\n",
    "        \"Description\": \"A Star Wars spin-off series following the journey of a lone bounty hunter in the outer reaches of the galaxy.\",\n",
    "        \"Category\": \"TV Series\",\n",
    "        \"Genres\": [\"Action\", \"Adventure\", \"Science Fiction\"],\n",
    "        \"Seasons\": 3,\n",
    "        \"Rating\": 4.8,\n",
    "        \"Cast\": [\"Pedro Pascal\", \"Gina Carano\", \"Carl Weathers\"],\n",
    "        \"StreamingPlatform\": \"Disney+\",\n",
    "        \"ReleaseDate\": \"2019-11-12T00:00:00Z\"\n",
    "    },\n",
    "    {\n",
    "        \"@search.action\": \"upload\",\n",
    "        \"ShowId\": \"3\",\n",
    "        \"ShowName\": \"The Crown\",\n",
    "        \"Description\": \"A historical drama series chronicling the reign of Queen Elizabeth II and the events that shaped the second half of the 20th century.\",\n",
    "        \"Category\": \"TV Series\",\n",
    "        \"Genres\": [\"Drama\", \"History\"],\n",
    "        \"Seasons\": 6,\n",
    "        \"Rating\": 4.5,\n",
    "        \"Cast\": [\"Claire Foy\", \"Olivia Colman\", \"Imelda Staunton\"],\n",
    "        \"StreamingPlatform\": \"Netflix\",\n",
    "        \"ReleaseDate\": \"2016-11-04T00:00:00Z\"\n",
    "    },\n",
    "    {\n",
    "        \"@search.action\": \"upload\",\n",
    "        \"ShowId\": \"4\",\n",
    "        \"ShowName\": \"Breaking Bad\",\n",
    "        \"Description\": \"A high school chemistry teacher turned methamphetamine manufacturer partners with a former student to build a drug empire.\",\n",
    "        \"Category\": \"TV Series\",\n",
    "        \"Genres\": [\"Crime\", \"Drama\", \"Thriller\"],\n",
    "        \"Seasons\": 5,\n",
    "        \"Rating\": 4.9,\n",
    "        \"Cast\": [\"Bryan Cranston\", \"Aaron Paul\", \"Anna Gunn\"],\n",
    "        \"StreamingPlatform\": \"AMC\",\n",
    "        \"ReleaseDate\": \"2008-01-20T00:00:00Z\"\n",
    "    },\n",
    "    {\n",
    "        \"@search.action\": \"upload\",\n",
    "        \"ShowId\": \"5\",\n",
    "        \"ShowName\": \"Friends\",\n",
    "        \"Description\": \"A beloved sitcom that follows the lives of six friends living in New York City as they navigate work, relationships, and life in general.\",\n",
    "        \"Category\": \"TV Series\",\n",
    "        \"Genres\": [\"Comedy\", \"Romance\"],\n",
    "        \"Seasons\": 10,\n",
    "        \"Rating\": 4.7,\n",
    "        \"Cast\": [\"Jennifer Aniston\", \"Courteney Cox\", \"Matthew Perry\"],\n",
    "        \"StreamingPlatform\": \"HBO Max\",\n",
    "        \"ReleaseDate\": \"1994-09-22T00:00:00Z\"\n",
    "    },\n",
    "    {\n",
    "        \"@search.action\": \"upload\",\n",
    "        \"ShowId\": \"6\",\n",
    "        \"ShowName\": \"Game of Thrones\",\n",
    "        \"Description\": \"An epic fantasy series based on the novels by George R.R. Martin, depicting the struggle for the Iron Throne in the Seven Kingdoms of Westeros.\",\n",
    "        \"Category\": \"TV Series\",\n",
    "        \"Genres\": [\"Fantasy\", \"Drama\", \"Adventure\"],\n",
    "        \"Seasons\": 8,\n",
    "        \"Rating\": 4.6,\n",
    "        \"Cast\": [\"Emilia Clarke\", \"Kit Harington\", \"Peter Dinklage\"],\n",
    "        \"StreamingPlatform\": \"HBO\",\n",
    "        \"ReleaseDate\": \"2011-04-17T00:00:00Z\"\n",
    "    }\n",
    "]\n"
   ]
  },
  {
   "cell_type": "code",
   "execution_count": 27,
   "metadata": {},
   "outputs": [
    {
     "name": "stdout",
     "output_type": "stream",
     "text": [
      "Upload of new document succeeded: True\n"
     ]
    }
   ],
   "source": [
    "search_client = SearchClient(endpoint=search_endpoint,\n",
    "                      index_name=index_name,\n",
    "                      credential=credential)\n",
    "try:\n",
    "    result = search_client.upload_documents(documents=documents)\n",
    "    print(\"Upload of new document succeeded: {}\".format(result[0].succeeded))\n",
    "except Exception as ex:\n",
    "    print (ex.message)\n",
    "\n",
    "    index_client = SearchIndexClient(\n",
    "    endpoint=search_endpoint, credential=credential)"
   ]
  },
  {
   "cell_type": "code",
   "execution_count": 28,
   "metadata": {},
   "outputs": [
    {
     "name": "stdout",
     "output_type": "stream",
     "text": [
      "Total Documents Matching Query: 0\n"
     ]
    }
   ],
   "source": [
    "# Run an empty query (returns selected fields, all documents)\n",
    "results =  search_client.search(query_type='simple',\n",
    "    search_text=\"*\" ,\n",
    "    select='ShowName,Description',\n",
    "    include_total_count=True)\n",
    "\n",
    "print ('Total Documents Matching Query:', results.get_count())\n",
    "for result in results:\n",
    "    print(result[\"@search.score\"])\n",
    "    print(result[\"ShowName\"])\n",
    "    print(f\"Description: {result['Description']}\")"
   ]
  },
  {
   "cell_type": "code",
   "execution_count": 29,
   "metadata": {},
   "outputs": [
    {
     "name": "stdout",
     "output_type": "stream",
     "text": [
      "Total Documents Matching Query: 0\n"
     ]
    }
   ],
   "source": [
    "# Run a term query\n",
    "results =  search_client.search(query_type='simple',\n",
    "    search_text=\"drama\" ,\n",
    "    select='ShowName,Description,Genres',\n",
    "    include_total_count=True)\n",
    "\n",
    "print ('Total Documents Matching Query:', results.get_count())\n",
    "for result in results:\n",
    "    print(result[\"@search.score\"])\n",
    "    print(result[\"ShowName\"])\n",
    "    print(f\"Description: {result['Description']}\")"
   ]
  },
  {
   "cell_type": "code",
   "execution_count": 30,
   "metadata": {},
   "outputs": [],
   "source": [
    "# try:\n",
    "#     result = index_client.delete_index(index_name)\n",
    "#     print ('Index', index_name, 'Deleted')\n",
    "# except Exception as ex:\n",
    "#     print (ex)"
   ]
  },
  {
   "cell_type": "code",
   "execution_count": 31,
   "metadata": {},
   "outputs": [
    {
     "ename": "",
     "evalue": "",
     "output_type": "error",
     "traceback": [
      "\u001b[1;31mThe Kernel crashed while executing code in the current cell or a previous cell. \n",
      "\u001b[1;31mPlease review the code in the cell(s) to identify a possible cause of the failure. \n",
      "\u001b[1;31mClick <a href='https://aka.ms/vscodeJupyterKernelCrash'>here</a> for more info. \n",
      "\u001b[1;31mView Jupyter <a href='command:jupyter.viewOutput'>log</a> for further details."
     ]
    }
   ],
   "source": [
    "# try:\n",
    "#     result = index_client.get_index(index_name)\n",
    "#     print (result)\n",
    "# except Exception as ex:\n",
    "#     print (ex)"
   ]
  }
 ],
 "metadata": {
  "kernelspec": {
   "display_name": "Python 3",
   "language": "python",
   "name": "python3"
  },
  "language_info": {
   "codemirror_mode": {
    "name": "ipython",
    "version": 3
   },
   "file_extension": ".py",
   "mimetype": "text/x-python",
   "name": "python",
   "nbconvert_exporter": "python",
   "pygments_lexer": "ipython3",
   "version": "3.12.4"
  }
 },
 "nbformat": 4,
 "nbformat_minor": 2
}
