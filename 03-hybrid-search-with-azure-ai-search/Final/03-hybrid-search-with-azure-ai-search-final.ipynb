{
 "cells": [
  {
   "cell_type": "markdown",
   "metadata": {},
   "source": [
    "Package Installation"
   ]
  },
  {
   "cell_type": "code",
   "execution_count": 1,
   "metadata": {},
   "outputs": [],
   "source": [
    "! pip install azure-search-documents==11.6.0b4 --quiet\n",
    "! pip install azure-identity --quiet\n",
    "! pip install openai --quiet"
   ]
  },
  {
   "cell_type": "markdown",
   "metadata": {},
   "source": [
    "Set API Keys"
   ]
  },
  {
   "cell_type": "code",
   "execution_count": 2,
   "metadata": {},
   "outputs": [],
   "source": [
    "from azure.core.credentials import AzureKeyCredential\n",
    "\n",
    "AZURE_SEARCH_SERVICE_URL: str = \"<YOUR_AZURE_SEARCH_SERVICE_URL>\"\n",
    "AZURE_OPENAI_SERVICE_URL: str = \"<YOUR_AZURE_OPENAI_SERVICE_URL>\"\n",
    "credential = AzureKeyCredential(\"<YOUR_AZURE_SEARCH_SERVICE_API_KEY>\")\n",
    "AZURE_OPENAI_SERVICE_KEY: str = \"<YOUR_AZURE_OPENAI_SERVICE_KEY>\"\n",
    "INDEX_NAME: str = \"vectest\"\n",
    "AZURE_OPENAI_EMBEDDING_DEPLOYMENT: str = \"<AZURE_OPENAI_EMBEDDING_DEPLOYMENT_NAME>\"\n",
    "EMBEDDING_MODEL_DIMENSIONS = 1024\n",
    "EMBEDDING_MODEL_NAME: str = \"text-embedding-3-large\""
   ]
  },
  {
   "cell_type": "markdown",
   "metadata": {},
   "source": [
    "Generate Embeddings"
   ]
  },
  {
   "cell_type": "code",
   "execution_count": 3,
   "metadata": {},
   "outputs": [],
   "source": [
    "from azure.identity import DefaultAzureCredential, get_bearer_token_provider\n",
    "from openai import AzureOpenAI\n",
    "import json\n",
    "import os\n",
    "\n",
    "openai_credential = DefaultAzureCredential()\n",
    "token_provider = get_bearer_token_provider(openai_credential, \"https://cognitiveservices.azure.com/.default\")\n",
    "\n",
    "client = AzureOpenAI(\n",
    "    azure_deployment=AZURE_OPENAI_EMBEDDING_DEPLOYMENT,\n",
    "    api_version=\"2024-06-01\",\n",
    "    azure_endpoint=AZURE_OPENAI_SERVICE_URL,\n",
    "    api_key=AZURE_OPENAI_SERVICE_KEY,\n",
    "    azure_ad_token_provider=token_provider if not AZURE_OPENAI_SERVICE_KEY else None\n",
    ")\n",
    "\n",
    "path = os.path.join('text-sample-2.json')\n",
    "with open(path, 'r', encoding='utf-8') as file:\n",
    "    input_data = json.load(file)\n",
    "\n",
    "titles = [item['title'] for item in input_data]\n",
    "content = [item['content'] for item in input_data]\n",
    "title_response = client.embeddings.create(input=titles, model=EMBEDDING_MODEL_NAME, dimensions=EMBEDDING_MODEL_DIMENSIONS)\n",
    "title_embeddings = [item.embedding for item in title_response.data]\n",
    "content_response = client.embeddings.create(input=content, model=EMBEDDING_MODEL_NAME, dimensions=EMBEDDING_MODEL_DIMENSIONS)\n",
    "content_embeddings = [item.embedding for item in content_response.data]\n",
    "\n",
    "for i, item in enumerate(input_data):\n",
    "    title = item['title']\n",
    "    content = item['content']\n",
    "    item['titleVector'] = title_embeddings[i]\n",
    "    item['contentVector'] = content_embeddings[i]\n",
    "\n",
    "output_path = os.path.join('docVectors.json')\n",
    "\n",
    "with open(output_path, \"w\") as f:\n",
    "    json.dump(input_data, f)"
   ]
  },
  {
   "cell_type": "markdown",
   "metadata": {},
   "source": [
    "Setup Fields"
   ]
  },
  {
   "cell_type": "code",
   "execution_count": 4,
   "metadata": {},
   "outputs": [],
   "source": [
    "from azure.search.documents.indexes import SearchIndexClient\n",
    "from azure.search.documents.indexes.models import (\n",
    "    SimpleField,\n",
    "    SearchFieldDataType,\n",
    "    SearchableField,\n",
    "    SearchField,\n",
    "    VectorSearch,\n",
    "    HnswAlgorithmConfiguration,\n",
    "    VectorSearchProfile,\n",
    "    SemanticConfiguration,\n",
    "    SemanticPrioritizedFields,\n",
    "    SemanticField,\n",
    "    SemanticSearch,\n",
    "    SearchIndex,\n",
    "    AzureOpenAIVectorizer,\n",
    "    AzureOpenAIParameters\n",
    ")\n",
    "\n",
    "index_client = SearchIndexClient(\n",
    "    endpoint=AZURE_SEARCH_SERVICE_URL, credential=credential)\n",
    "fields = [\n",
    "    SimpleField(name=\"id\", type=SearchFieldDataType.String, key=True, sortable=True, filterable=True, facetable=True),\n",
    "    SearchableField(name=\"title\", type=SearchFieldDataType.String),\n",
    "    SearchableField(name=\"content\", type=SearchFieldDataType.String),\n",
    "    SearchableField(name=\"category\", type=SearchFieldDataType.String,\n",
    "                    filterable=True),\n",
    "    SearchField(name=\"titleVector\", type=SearchFieldDataType.Collection(SearchFieldDataType.Single),\n",
    "                searchable=True, vector_search_dimensions=EMBEDDING_MODEL_DIMENSIONS, vector_search_profile_name=\"myHnswProfile\"),\n",
    "    SearchField(name=\"contentVector\", type=SearchFieldDataType.Collection(SearchFieldDataType.Single),\n",
    "                searchable=True, vector_search_dimensions=EMBEDDING_MODEL_DIMENSIONS, vector_search_profile_name=\"myHnswProfile\"),\n",
    "]\n"
   ]
  },
  {
   "cell_type": "markdown",
   "metadata": {},
   "source": [
    "Configure the Vector Search\n"
   ]
  },
  {
   "cell_type": "code",
   "execution_count": 5,
   "metadata": {},
   "outputs": [],
   "source": [
    "vector_search = VectorSearch(\n",
    "    algorithms=[\n",
    "        HnswAlgorithmConfiguration(\n",
    "            name=\"myHnsw\"\n",
    "        )\n",
    "    ],\n",
    "    profiles=[\n",
    "        VectorSearchProfile(\n",
    "            name=\"myHnswProfile\",\n",
    "            algorithm_configuration_name=\"myHnsw\",\n",
    "            vectorizer=\"myVectorizer\"\n",
    "        )\n",
    "    ],\n",
    "    vectorizers=[\n",
    "        AzureOpenAIVectorizer(\n",
    "            name=\"myVectorizer\",\n",
    "            azure_open_ai_parameters=AzureOpenAIParameters(\n",
    "                resource_uri=AZURE_OPENAI_SERVICE_URL,\n",
    "                deployment_id=AZURE_OPENAI_EMBEDDING_DEPLOYMENT,\n",
    "                model_name=EMBEDDING_MODEL_NAME,\n",
    "                api_key=AZURE_OPENAI_SERVICE_KEY\n",
    "            )\n",
    "        )\n",
    "    ]\n",
    ")"
   ]
  },
  {
   "cell_type": "markdown",
   "metadata": {},
   "source": [
    "Configure the Semantic Search"
   ]
  },
  {
   "cell_type": "code",
   "execution_count": 6,
   "metadata": {},
   "outputs": [],
   "source": [
    "semantic_config = SemanticConfiguration(\n",
    "    name=\"my-semantic-config\",\n",
    "    prioritized_fields=SemanticPrioritizedFields(\n",
    "        title_field=SemanticField(field_name=\"title\"),\n",
    "        keywords_fields=[SemanticField(field_name=\"category\")],\n",
    "        content_fields=[SemanticField(field_name=\"content\")]\n",
    "    )\n",
    ")\n",
    "\n",
    "semantic_search = SemanticSearch(configurations=[semantic_config])"
   ]
  },
  {
   "cell_type": "markdown",
   "metadata": {},
   "source": [
    "Create the Search Index"
   ]
  },
  {
   "cell_type": "code",
   "execution_count": 7,
   "metadata": {},
   "outputs": [
    {
     "name": "stdout",
     "output_type": "stream",
     "text": [
      " vectest created\n"
     ]
    }
   ],
   "source": [
    "index = SearchIndex(name=INDEX_NAME, fields=fields,\n",
    "                    vector_search=vector_search, semantic_search=semantic_search)\n",
    "result = index_client.create_or_update_index(index)\n",
    "print(f' {result.name} created')"
   ]
  },
  {
   "cell_type": "markdown",
   "metadata": {},
   "source": [
    "Upload to Service"
   ]
  },
  {
   "cell_type": "code",
   "execution_count": 8,
   "metadata": {},
   "outputs": [
    {
     "name": "stdout",
     "output_type": "stream",
     "text": [
      "Uploaded 50 documents\n"
     ]
    }
   ],
   "source": [
    "from azure.search.documents import SearchClient\n",
    "import json\n",
    "\n",
    "output_path = os.path.join('docVectors.json')\n",
    "\n",
    "with open(output_path, 'r') as file:  \n",
    "    documents = json.load(file)  \n",
    "search_client = SearchClient(endpoint=AZURE_SEARCH_SERVICE_URL, index_name=INDEX_NAME, credential=credential)\n",
    "result = search_client.upload_documents(documents)\n",
    "print(f\"Uploaded {len(documents)} documents\") "
   ]
  },
  {
   "cell_type": "markdown",
   "metadata": {},
   "source": [
    "Vector Search"
   ]
  },
  {
   "cell_type": "code",
   "execution_count": 9,
   "metadata": {},
   "outputs": [
    {
     "name": "stdout",
     "output_type": "stream",
     "text": [
      "Title: Parks and Recreation\n",
      "Score: 0.01666666753590107\n",
      "Content: Parks and Recreation is a mockumentary-style comedy that follows the employees of the Parks and Recreation Department in the fictional town of Pawnee, Indiana. The series is centered around Leslie Knope, an enthusiastic and optimistic public servant, and her quirky coworkers. The show's humor is rooted in its loveable characters, witty dialogue, and its satirical take on small-town government. Parks and Recreation has gained a dedicated fanbase for its heartwarming moments, memorable quotes, and its positive portrayal of community and public service.\n",
      "Category: Comedy\n",
      "\n",
      "Title: The Good Place\n",
      "Score: 0.016393441706895828\n",
      "Content: The Good Place is a unique and clever comedy that explores the concept of the afterlife with humor and philosophical depth. The series follows Eleanor Shellstrop, a woman who finds herself in the Good Place, a utopian afterlife, despite not living a particularly virtuous life. As Eleanor tries to become a better person to avoid being sent to the Bad Place, she uncovers surprising truths about the nature of the afterlife and herself. The show is celebrated for its witty writing, engaging characters, and its ability to tackle deep ethical questions in a lighthearted and accessible way.\n",
      "Category: Comedy\n",
      "\n",
      "Title: Rick and Morty\n",
      "Score: 0.016129031777381897\n",
      "Content: Rick and Morty is an animated science fiction comedy that follows the misadventures of Rick, an eccentric and alcoholic scientist, and his good-hearted but easily influenced grandson, Morty. The show is known for its dark humor, clever writing, and its exploration of complex scientific concepts and philosophical questions through absurd and often outlandish scenarios. Rick and Morty has been praised for its originality, its ability to blend humor with thought-provoking ideas, and its exploration of themes such as existentialism, free will, and the nature of reality.\n",
      "Category: Comedy\n",
      "\n"
     ]
    }
   ],
   "source": [
    "from azure.search.documents.models import VectorizableTextQuery\n",
    "\n",
    "query = \"funny entertainment\"  \n",
    "  \n",
    "vector_query = VectorizableTextQuery(text=query, k_nearest_neighbors=3, fields=\"contentVector\")\n",
    "\n",
    "results = search_client.search(  \n",
    "    search_text=query,  \n",
    "    vector_queries=[vector_query],\n",
    "    select=[\"title\", \"content\", \"category\"],\n",
    "    top=3\n",
    ")  \n",
    "  \n",
    "for result in results:  \n",
    "    print(f\"Title: {result['title']}\")  \n",
    "    print(f\"Score: {result['@search.score']}\")  \n",
    "    print(f\"Content: {result['content']}\")  \n",
    "    print(f\"Category: {result['category']}\\n\")  "
   ]
  },
  {
   "cell_type": "markdown",
   "metadata": {},
   "source": [
    "Weighted Vector Search"
   ]
  },
  {
   "cell_type": "code",
   "execution_count": 10,
   "metadata": {},
   "outputs": [
    {
     "name": "stdout",
     "output_type": "stream",
     "text": [
      "Title: Parks and Recreation\n",
      "Score: 0.0033333336468786\n",
      "Content: Parks and Recreation is a mockumentary-style comedy that follows the employees of the Parks and Recreation Department in the fictional town of Pawnee, Indiana. The series is centered around Leslie Knope, an enthusiastic and optimistic public servant, and her quirky coworkers. The show's humor is rooted in its loveable characters, witty dialogue, and its satirical take on small-town government. Parks and Recreation has gained a dedicated fanbase for its heartwarming moments, memorable quotes, and its positive portrayal of community and public service.\n",
      "Category: Comedy\n",
      "\n",
      "Title: The Good Place\n",
      "Score: 0.003278688294813037\n",
      "Content: The Good Place is a unique and clever comedy that explores the concept of the afterlife with humor and philosophical depth. The series follows Eleanor Shellstrop, a woman who finds herself in the Good Place, a utopian afterlife, despite not living a particularly virtuous life. As Eleanor tries to become a better person to avoid being sent to the Bad Place, she uncovers surprising truths about the nature of the afterlife and herself. The show is celebrated for its witty writing, engaging characters, and its ability to tackle deep ethical questions in a lighthearted and accessible way.\n",
      "Category: Comedy\n",
      "\n",
      "Title: Rick and Morty\n",
      "Score: 0.003225806402042508\n",
      "Content: Rick and Morty is an animated science fiction comedy that follows the misadventures of Rick, an eccentric and alcoholic scientist, and his good-hearted but easily influenced grandson, Morty. The show is known for its dark humor, clever writing, and its exploration of complex scientific concepts and philosophical questions through absurd and often outlandish scenarios. Rick and Morty has been praised for its originality, its ability to blend humor with thought-provoking ideas, and its exploration of themes such as existentialism, free will, and the nature of reality.\n",
      "Category: Comedy\n",
      "\n"
     ]
    }
   ],
   "source": [
    "query = \"funny entertainment\"  \n",
    "  \n",
    "vector_query = VectorizableTextQuery(text=query, k_nearest_neighbors=3, fields=\"contentVector\", weight=0.2)\n",
    "\n",
    "results = search_client.search(  \n",
    "    search_text=query,  \n",
    "    vector_queries=[vector_query],\n",
    "    select=[\"title\", \"content\", \"category\"],\n",
    "    top=3\n",
    ")  \n",
    "  \n",
    "for result in results:  \n",
    "    print(f\"Title: {result['title']}\")  \n",
    "    print(f\"Score: {result['@search.score']}\")  \n",
    "    print(f\"Content: {result['content']}\")  \n",
    "    print(f\"Category: {result['category']}\\n\") "
   ]
  },
  {
   "cell_type": "markdown",
   "metadata": {},
   "source": [
    "Semantic Hybrid Search"
   ]
  },
  {
   "cell_type": "code",
   "execution_count": 11,
   "metadata": {},
   "outputs": [
    {
     "name": "stdout",
     "output_type": "stream",
     "text": [
      "Semantic Answer: Friends. Comedy. Friends is<em> a beloved sitcom that follows the lives of six close-knit friends—Rachel, Ross, Monica, Chandler, Joey, and Phoebe—as they navigate</em> the ups and downs of life in New York City. With its iconic catchphrases, humorous scenarios, and relatable characters, Friends has become a cultural touchstone, resonating with audiences around the world. The show balances humor with heart, exploring themes of love, friendship, and the challenges of adulthood. Its enduring popularity is a testament to its timeless appeal and the chemistry between its cast..\n",
      "Semantic Answer Score: 0.9609375\n",
      "\n",
      "Title: Friends\n",
      "Reranker Score: 3.632352828979492\n",
      "Content: Friends is a beloved sitcom that follows the lives of six close-knit friends—Rachel, Ross, Monica, Chandler, Joey, and Phoebe—as they navigate the ups and downs of life in New York City. With its iconic catchphrases, humorous scenarios, and relatable characters, Friends has become a cultural touchstone, resonating with audiences around the world. The show balances humor with heart, exploring themes of love, friendship, and the challenges of adulthood. Its enduring popularity is a testament to its timeless appeal and the chemistry between its cast.\n",
      "Category: Comedy\n",
      "Caption: Friends. Comedy. Friends is a beloved sitcom that follows the lives of six close-knit friends—Rachel, Ross, Monica, Chandler, Joey, and Phoebe—as they navigate the ups and downs of life in New York City. With its iconic catchphrases, humorous scenarios, and relatable characters, Friends has become a cultural touchstone, resonating with audiences around the world. The show balances humor with heart, exploring themes of love, friendship, and the challenges of adulthood. Its enduring popularity is a testament to its timeless appeal and the chemistry between its cast..\n",
      "\n",
      "Title: Fleabag\n",
      "Reranker Score: 1.438725471496582\n",
      "Content: Fleabag is a darkly comedic series created by and starring Phoebe Waller-Bridge. The show follows the life of a young woman living in London as she navigates the complexities of relationships, grief, and self-discovery. Fleabag is known for its sharp writing, unique storytelling style, and its use of direct-to-camera monologues that offer insight into the protagonist's inner thoughts. The series has been praised for its humor, emotional depth, and Waller-Bridge's standout performance, making it one of the most acclaimed comedies of recent years.\n",
      "Category: Comedy\n",
      "Caption: Fleabag. Comedy. Fleabag is a darkly comedic series created by and starring Phoebe Waller-Bridge. The show follows the life of a young woman living in London as she navigates the complexities of relationships, grief, and self-discovery. Fleabag is known for its sharp writing, unique storytelling style, and its use of direct-to-camera monologues that offer insight into the protagonist's inner thoughts. The series has been praised for its humor, emotional depth, and Waller-Bridge's standout performance, making it one of the most acclaimed comedies of recent years..\n",
      "\n",
      "Title: This Is Us\n",
      "Reranker Score: 1.2870709896087646\n",
      "Content: This Is Us is a heartfelt family drama that weaves together the stories of the Pearson family across multiple generations. The series explores the joys and challenges of life, love, and family, with each episode offering a glimpse into the past, present, and future of the Pearsons. This Is Us is known for its emotional storytelling, complex characters, and its ability to tackle difficult subjects such as loss, addiction, and identity. The show has been praised for its strong performances, particularly by its ensemble cast, and its ability to resonate with viewers on a deeply personal level.\n",
      "Category: Drama\n",
      "Caption: This Is Us. Drama. This Is Us is a heartfelt family drama that weaves together the stories of the Pearson family across multiple generations. The series explores the joys and challenges of life, love, and family, with each episode offering a glimpse into the past, present, and future of the Pearsons. This Is Us is known for its emotional storytelling, complex characters, and its ability to tackle difficult subjects such as loss, addiction, and identity. The show has been praised for its strong performances, particularly by its ensemble cast, and its ability to resonate with viewers on a deeply personal level..\n",
      "\n"
     ]
    }
   ],
   "source": [
    "from azure.search.documents.models import QueryType, QueryCaptionType, QueryAnswerType\n",
    "\n",
    "query = \"what is friends?\"\n",
    "\n",
    "vector_query = VectorizableTextQuery(text=query, k_nearest_neighbors=3, fields=\"contentVector\", exhaustive=True)\n",
    "\n",
    "results = search_client.search(  \n",
    "    search_text=query,  \n",
    "    vector_queries=[vector_query],\n",
    "    select=[\"title\", \"content\", \"category\"],\n",
    "    query_type=QueryType.SEMANTIC, semantic_configuration_name='my-semantic-config', query_caption=QueryCaptionType.EXTRACTIVE, query_answer=QueryAnswerType.EXTRACTIVE,\n",
    "    top=3\n",
    ")\n",
    "\n",
    "semantic_answers = results.get_answers()\n",
    "for answer in semantic_answers:\n",
    "    if answer.highlights:\n",
    "        print(f\"Semantic Answer: {answer.highlights}\")\n",
    "    else:\n",
    "        print(f\"Semantic Answer: {answer.text}\")\n",
    "    print(f\"Semantic Answer Score: {answer.score}\\n\")\n",
    "\n",
    "for result in results:\n",
    "    print(f\"Title: {result['title']}\")\n",
    "    print(f\"Reranker Score: {result['@search.reranker_score']}\")\n",
    "    print(f\"Content: {result['content']}\")\n",
    "    print(f\"Category: {result['category']}\")\n",
    "\n",
    "    captions = result[\"@search.captions\"]\n",
    "    if captions:\n",
    "        caption = captions[0]\n",
    "        if caption.highlights:\n",
    "            print(f\"Caption: {caption.highlights}\\n\")\n",
    "        else:\n",
    "            print(f\"Caption: {caption.text}\\n\")"
   ]
  },
  {
   "cell_type": "markdown",
   "metadata": {},
   "source": [
    "Cleanup"
   ]
  },
  {
   "cell_type": "code",
   "execution_count": 12,
   "metadata": {},
   "outputs": [],
   "source": [
    "index_client.delete_index(index)"
   ]
  }
 ],
 "metadata": {
  "kernelspec": {
   "display_name": ".venv",
   "language": "python",
   "name": "python3"
  },
  "language_info": {
   "codemirror_mode": {
    "name": "ipython",
    "version": 3
   },
   "file_extension": ".py",
   "mimetype": "text/x-python",
   "name": "python",
   "nbconvert_exporter": "python",
   "pygments_lexer": "ipython3",
   "version": "3.12.4"
  }
 },
 "nbformat": 4,
 "nbformat_minor": 2
}
